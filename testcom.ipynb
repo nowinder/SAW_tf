{
 "cells": [
  {
   "cell_type": "code",
   "execution_count": 1,
   "metadata": {},
   "outputs": [],
   "source": [
    "import sawcom7 as sc1\n",
    "import sawcom7_de as sc2"
   ]
  },
  {
   "cell_type": "code",
   "execution_count": 2,
   "metadata": {},
   "outputs": [],
   "source": [
    "from inputps import cacul\n",
    "# %load data_generatev2\n",
    "# code by Zhengcaizhi\n",
    "import numpy as np\n",
    "# import matplotlib.pyplot as plt\n",
    "import math\n",
    "from scipy import special\n",
    "import cmath\n",
    "# from scipy.signal import argrelextrema\n",
    "\n",
    "\n",
    "def cacul2(paras):\n",
    "    npiezo_1 = paras[0]\n",
    "    eta = paras[1]\n",
    "    e = paras[2]\n",
    "    alpha = paras[3]\n",
    "    c = paras[4]\n",
    "    k2 = paras[5]\n",
    "    vb = paras[6]\n",
    "    # n1 = paras[7]\n",
    "    # W1 = paras[8]\n",
    "    epsilon_0 = 8.8541878128e-12 #The permittivity of vacuum\n",
    "    pI = 4000E-9 #The period of IDT, normally is one wavelength\n",
    "    W1 = 40*pI\n",
    "    h = 0.08*pI #The thickness of IDT, Al or Al-Cu1%\n",
    "    # W1 = 20*pI # Width of IDT (acoustic aperture), in m\n",
    "    m_ratio = 0.5 #The metallization ratio\n",
    "\n",
    "    eta_b = (eta+2*abs(e))/2\n",
    "    epsilon = npiezo_1*epsilon_0\n",
    "    x1 = np.cos(np.pi*m_ratio )\n",
    "    m1 = math.sqrt((1-x1)/2) \n",
    "    km1 = special.ellipk(m1, out=None)\n",
    "    p1 = 2*km1/np.pi\n",
    "    x2 = -np.cos(np.pi*m_ratio )\n",
    "    m2 = math.sqrt((1-x2)/2) \n",
    "    km2 = special.ellipk(m2, out=None)\n",
    "    p2 = 2*km2/np.pi\n",
    "    p_factor = p1/p2\n",
    "    # freq = np.linspace(0.5E9, 1.5E9, 501)\n",
    "    freq = np.linspace(0.9E9, 1.25E9, 1001)\n",
    "    # freq_mhz = freq/1e6\n",
    "    delta_v = - (eta**2)/2\n",
    "    k = abs(e)*(eta+abs(e)/2)\n",
    "    kb = -(abs(e)**2)*eta/(eta+2*abs(e))\n",
    "    delta_b = -((eta**2)-2*((abs(e)**2)))/4\n",
    "    omega = freq*2*np.pi\n",
    "    delta = omega/vb - 2*np.pi/pI - 1j*alpha\n",
    "\n",
    "    v_delta = []\n",
    "    for i in range(0,len(delta)):\n",
    "        v_delta_0 = eta_b/((cmath.sqrt(delta_b-delta[i]))+ eta_b)# wave velocity in m/s\n",
    "        v_delta.append(v_delta_0)\n",
    "    v_delta = np.array(v_delta)\n",
    "    omega = freq*2*np.pi\n",
    "    C = (W1*epsilon*p_factor)/pI ##To check\n",
    "    xi = []\n",
    "    for i in range(0,len(omega)):\n",
    "        xi_0 = c*cmath.sqrt((omega[i]*C*k2)/(pI*np.pi))\n",
    "        xi_0 = -1j*xi_0\n",
    "        xi.append(xi_0)\n",
    "    xi = np.array(xi)\n",
    "\n",
    "    lam1 = pI # Wavelength in m of SAW filters \n",
    "    c12 = -1j*c*(k+kb*v_delta) # Reflectivity per unit length (~1.7% reflected per IDT spaced at lam/2)\n",
    "    a1 = -xi # The transduction coefficient\n",
    "    n1 = 61\n",
    "    L1 = n1*lam1 # Length of total IDT the grating, in m\n",
    "    #W1 = 22*lam1 # Width of IDT (acoustic aperture), in m\n",
    "    #d = sc.delta(freq,v1,lam1) - 500j\n",
    "    Ct=n1*W1*epsilon # Static capacitance of total IDT\n",
    "    #d1 = sc.delta(freq,v1,lam1)\n",
    "    d1 = sc2.thetau(c,delta,delta_v,kb,v_delta)\n",
    "    C1 = sc2.C0(freq,Ct)\n",
    "    idt_ref_1 = sc2.pmatrix(lam1,c12,a1,L1,d1,C1) #The P-Matrix of SAW resonator with refelection \n",
    "    # y11 = 20 * np.log10(abs(idt_ref_1.p33)/5)\n",
    "    y11 = (idt_ref_1.p33)\n",
    "    return y11"
   ]
  },
  {
   "cell_type": "code",
   "execution_count": 4,
   "metadata": {},
   "outputs": [],
   "source": [
    "data_path = './datas/out/vali600.csv'\n",
    "data = np.loadtxt(data_path,delimiter=',')\n",
    "# data_path = './test_paras.csv'\n",
    "# data = np.loadtxt(data_path,delimiter=',')"
   ]
  },
  {
   "cell_type": "code",
   "execution_count": 3,
   "metadata": {},
   "outputs": [
    {
     "ename": "NameError",
     "evalue": "name 'data' is not defined",
     "output_type": "error",
     "traceback": [
      "\u001b[1;31m---------------------------------------------------------------------------\u001b[0m",
      "\u001b[1;31mNameError\u001b[0m                                 Traceback (most recent call last)",
      "Cell \u001b[1;32mIn[3], line 2\u001b[0m\n\u001b[0;32m      1\u001b[0m \u001b[38;5;66;03m# y1 = cacul(data[0])\u001b[39;00m\n\u001b[1;32m----> 2\u001b[0m y2 \u001b[38;5;241m=\u001b[39m cacul2(\u001b[43mdata\u001b[49m[\u001b[38;5;241m0\u001b[39m])\n",
      "\u001b[1;31mNameError\u001b[0m: name 'data' is not defined"
     ]
    }
   ],
   "source": [
    "# y1 = cacul(data[0])\n",
    "y2 = cacul2(data[0])\n",
    "\n",
    "# for i in range(8):\n",
    "#     y = cacul2(data[i])"
   ]
  },
  {
   "cell_type": "code",
   "execution_count": 5,
   "metadata": {},
   "outputs": [
    {
     "name": "stdout",
     "output_type": "stream",
     "text": [
      "[-0.00160935+0.03814977j -0.00160979+0.03816584j -0.00161052+0.03818191j\n",
      " ... -0.00217616+0.05472288j -0.00217662+0.05474038j\n",
      " -0.00217665+0.05475706j]\n"
     ]
    }
   ],
   "source": [
    "print(y2)"
   ]
  },
  {
   "cell_type": "code",
   "execution_count": 22,
   "metadata": {},
   "outputs": [],
   "source": [
    "mm_r = ((y1 - y2)/y1).real\n",
    "mm_i = ((y1 - y2)/y1).imag"
   ]
  },
  {
   "cell_type": "code",
   "execution_count": 23,
   "metadata": {},
   "outputs": [
    {
     "data": {
      "text/plain": [
       "-0.03257452872046834"
      ]
     },
     "execution_count": 23,
     "metadata": {},
     "output_type": "execute_result"
    }
   ],
   "source": [
    "mm_r.mean()"
   ]
  },
  {
   "cell_type": "code",
   "execution_count": 24,
   "metadata": {},
   "outputs": [
    {
     "data": {
      "text/plain": [
       "0.03922227415755245"
      ]
     },
     "execution_count": 24,
     "metadata": {},
     "output_type": "execute_result"
    }
   ],
   "source": [
    "mm_i.mean()"
   ]
  },
  {
   "cell_type": "code",
   "execution_count": 44,
   "metadata": {},
   "outputs": [],
   "source": [
    "a = np.exp(1j*(3+4j))"
   ]
  },
  {
   "cell_type": "code",
   "execution_count": 57,
   "metadata": {},
   "outputs": [
    {
     "name": "stderr",
     "output_type": "stream",
     "text": [
      "C:\\Users\\Zheng_caizhi\\AppData\\Local\\Temp\\2\\ipykernel_19316\\1472649512.py:2: RuntimeWarning: overflow encountered in cos\n",
      "  b = np.cos(a)+1j*(np.sin(a))\n",
      "C:\\Users\\Zheng_caizhi\\AppData\\Local\\Temp\\2\\ipykernel_19316\\1472649512.py:2: RuntimeWarning: overflow encountered in sin\n",
      "  b = np.cos(a)+1j*(np.sin(a))\n",
      "C:\\Users\\Zheng_caizhi\\AppData\\Local\\Temp\\2\\ipykernel_19316\\1472649512.py:2: RuntimeWarning: invalid value encountered in scalar multiply\n",
      "  b = np.cos(a)+1j*(np.sin(a))\n"
     ]
    }
   ],
   "source": [
    "# b = np.cos(3+4j)+1j*(np.sin(3+4j))\n",
    "b = np.cos(a)+1j*(np.sin(a))"
   ]
  },
  {
   "cell_type": "code",
   "execution_count": 59,
   "metadata": {},
   "outputs": [
    {
     "name": "stderr",
     "output_type": "stream",
     "text": [
      "C:\\Users\\Zheng_caizhi\\AppData\\Local\\Temp\\2\\ipykernel_19316\\1872256391.py:1: RuntimeWarning: overflow encountered in cos\n",
      "  c = np.abs(np.cos(a)+1j*(np.sin(a)))*np.exp(1j*np.angle(np.cos(a)+1j*(np.sin(a))))\n",
      "C:\\Users\\Zheng_caizhi\\AppData\\Local\\Temp\\2\\ipykernel_19316\\1872256391.py:1: RuntimeWarning: overflow encountered in sin\n",
      "  c = np.abs(np.cos(a)+1j*(np.sin(a)))*np.exp(1j*np.angle(np.cos(a)+1j*(np.sin(a))))\n",
      "C:\\Users\\Zheng_caizhi\\AppData\\Local\\Temp\\2\\ipykernel_19316\\1872256391.py:1: RuntimeWarning: invalid value encountered in scalar multiply\n",
      "  c = np.abs(np.cos(a)+1j*(np.sin(a)))*np.exp(1j*np.angle(np.cos(a)+1j*(np.sin(a))))\n"
     ]
    }
   ],
   "source": [
    "c = np.abs(b)*np.exp(1j*np.angle(b))"
   ]
  },
  {
   "cell_type": "code",
   "execution_count": 52,
   "metadata": {},
   "outputs": [
    {
     "data": {
      "text/plain": [
       "(-9.624536482271497e-14-1.0729753055706537e-14j)"
      ]
     },
     "execution_count": 52,
     "metadata": {},
     "output_type": "execute_result"
    }
   ],
   "source": [
    "(a-b)/a"
   ]
  },
  {
   "cell_type": "code",
   "execution_count": 53,
   "metadata": {},
   "outputs": [
    {
     "data": {
      "text/plain": [
       "(-9.606451804065874e-14-1.0656138916311207e-14j)"
      ]
     },
     "execution_count": 53,
     "metadata": {},
     "output_type": "execute_result"
    }
   ],
   "source": [
    "(a-c)/a"
   ]
  },
  {
   "cell_type": "code",
   "execution_count": 3,
   "metadata": {},
   "outputs": [],
   "source": [
    "from sawcom7_de import sin_d,cos_d"
   ]
  },
  {
   "cell_type": "code",
   "execution_count": 17,
   "metadata": {},
   "outputs": [],
   "source": [
    "x = np.cos(3+4j)"
   ]
  },
  {
   "cell_type": "code",
   "execution_count": 18,
   "metadata": {},
   "outputs": [],
   "source": [
    "y = cos_d(3+4j)"
   ]
  },
  {
   "cell_type": "code",
   "execution_count": 20,
   "metadata": {},
   "outputs": [
    {
     "data": {
      "text/plain": [
       "-3.2199573599339777e-17"
      ]
     },
     "execution_count": 20,
     "metadata": {},
     "output_type": "execute_result"
    }
   ],
   "source": [
    "((x - y)/x).imag"
   ]
  },
  {
   "cell_type": "markdown",
   "metadata": {},
   "source": [
    "## 测试sin_d与np.sin的区别"
   ]
  },
  {
   "cell_type": "code",
   "execution_count": 6,
   "metadata": {},
   "outputs": [],
   "source": [
    "data_path = './datas/out/vali600.csv'\n",
    "data = np.loadtxt(data_path,delimiter=',')"
   ]
  },
  {
   "cell_type": "code",
   "execution_count": 7,
   "metadata": {},
   "outputs": [
    {
     "name": "stdout",
     "output_type": "stream",
     "text": [
      "用时：17.285966157913208 s\n"
     ]
    }
   ],
   "source": [
    "y1 =[]\n",
    "y2 =[]\n",
    "import time\n",
    "start = time.time()\n",
    "for i in range(len(data)):\n",
    "    Y = cacul(data[i])\n",
    "    Y_d = cacul2(data[i])\n",
    "    y1.append(Y)\n",
    "    y2.append(Y_d)\n",
    "end = time.time()\n",
    "print('用时：%s s' %(end-start))"
   ]
  },
  {
   "cell_type": "code",
   "execution_count": 8,
   "metadata": {},
   "outputs": [],
   "source": [
    "y1 = np.array(y1)\n",
    "y2 = np.array(y2)"
   ]
  },
  {
   "cell_type": "code",
   "execution_count": 9,
   "metadata": {},
   "outputs": [
    {
     "data": {
      "text/plain": [
       "(4.785427386665831e-16-1.4477217287212045e-15j)"
      ]
     },
     "execution_count": 9,
     "metadata": {},
     "output_type": "execute_result"
    }
   ],
   "source": [
    "((y1 -y2)/y1).mean()"
   ]
  },
  {
   "cell_type": "code",
   "execution_count": 18,
   "metadata": {},
   "outputs": [],
   "source": [
    "rr = ((y1.real - y2.real)/y1.real)\n",
    "ii = ((y1.imag - y2.imag)/y1.imag)"
   ]
  },
  {
   "cell_type": "code",
   "execution_count": 19,
   "metadata": {},
   "outputs": [
    {
     "data": {
      "text/plain": [
       "(-1.7975192896823404e-16+6.871061631976406e-18j)"
      ]
     },
     "execution_count": 19,
     "metadata": {},
     "output_type": "execute_result"
    }
   ],
   "source": [
    "(np.sin(6+500j) - sin_d(6+500j))/np.sin(6+500j)"
   ]
  },
  {
   "cell_type": "code",
   "execution_count": 14,
   "metadata": {},
   "outputs": [
    {
     "data": {
      "text/plain": [
       "(8.939696481970213e+29-4.4812751321749225e+29j)"
      ]
     },
     "execution_count": 14,
     "metadata": {},
     "output_type": "execute_result"
    }
   ],
   "source": [
    "sin_d(800+710j)"
   ]
  },
  {
   "cell_type": "code",
   "execution_count": 15,
   "metadata": {},
   "outputs": [
    {
     "data": {
      "text/plain": [
       "(9.98561757589786e+307-5.005572595504704e+307j)"
      ]
     },
     "execution_count": 15,
     "metadata": {},
     "output_type": "execute_result"
    }
   ],
   "source": [
    "np.sin(800+710j)"
   ]
  },
  {
   "cell_type": "code",
   "execution_count": 2,
   "metadata": {},
   "outputs": [],
   "source": [
    "import numpy as np\n",
    "m = np.abs(800+700j)\n",
    "phi = np.angle(800+700j)"
   ]
  },
  {
   "cell_type": "code",
   "execution_count": 6,
   "metadata": {},
   "outputs": [
    {
     "data": {
      "text/plain": [
       "(4.5334633658084863e+303-2.272526442569584e+303j)"
      ]
     },
     "execution_count": 6,
     "metadata": {},
     "output_type": "execute_result"
    }
   ],
   "source": [
    "np.sin(m*np.exp(phi*1j))"
   ]
  },
  {
   "cell_type": "code",
   "execution_count": 3,
   "metadata": {},
   "outputs": [
    {
     "data": {
      "text/plain": [
       "(4.5334633658084863e+303-2.272526442569584e+303j)"
      ]
     },
     "execution_count": 3,
     "metadata": {},
     "output_type": "execute_result"
    }
   ],
   "source": [
    "sin_d(800+700j)"
   ]
  },
  {
   "cell_type": "code",
   "execution_count": 7,
   "metadata": {},
   "outputs": [
    {
     "data": {
      "text/plain": [
       "1063.014581273465"
      ]
     },
     "execution_count": 7,
     "metadata": {},
     "output_type": "execute_result"
    }
   ],
   "source": [
    "np.abs(m*np.exp(phi*1j))"
   ]
  },
  {
   "cell_type": "code",
   "execution_count": null,
   "metadata": {},
   "outputs": [],
   "source": []
  }
 ],
 "metadata": {
  "kernelspec": {
   "display_name": "tf",
   "language": "python",
   "name": "python3"
  },
  "language_info": {
   "codemirror_mode": {
    "name": "ipython",
    "version": 3
   },
   "file_extension": ".py",
   "mimetype": "text/x-python",
   "name": "python",
   "nbconvert_exporter": "python",
   "pygments_lexer": "ipython3",
   "version": "3.10.14"
  }
 },
 "nbformat": 4,
 "nbformat_minor": 2
}
