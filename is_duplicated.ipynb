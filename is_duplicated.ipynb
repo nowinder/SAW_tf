{
 "cells": [
  {
   "cell_type": "code",
   "execution_count": 9,
   "id": "e036c2bd",
   "metadata": {},
   "outputs": [],
   "source": [
    "import pandas as pd"
   ]
  },
  {
   "cell_type": "code",
   "execution_count": 11,
   "id": "13fbe9ad",
   "metadata": {},
   "outputs": [
    {
     "data": {
      "text/html": [
       "<div>\n",
       "<style scoped>\n",
       "    .dataframe tbody tr th:only-of-type {\n",
       "        vertical-align: middle;\n",
       "    }\n",
       "\n",
       "    .dataframe tbody tr th {\n",
       "        vertical-align: top;\n",
       "    }\n",
       "\n",
       "    .dataframe thead th {\n",
       "        text-align: right;\n",
       "    }\n",
       "</style>\n",
       "<table border=\"1\" class=\"dataframe\">\n",
       "  <thead>\n",
       "    <tr style=\"text-align: right;\">\n",
       "      <th></th>\n",
       "      <th>0</th>\n",
       "      <th>1</th>\n",
       "      <th>2</th>\n",
       "      <th>3</th>\n",
       "      <th>4</th>\n",
       "      <th>5</th>\n",
       "      <th>6</th>\n",
       "    </tr>\n",
       "  </thead>\n",
       "  <tbody>\n",
       "    <tr>\n",
       "      <th>0</th>\n",
       "      <td>48.390419</td>\n",
       "      <td>344.470097</td>\n",
       "      <td>181.781057</td>\n",
       "      <td>0.048687</td>\n",
       "      <td>1.523789</td>\n",
       "      <td>0.437709</td>\n",
       "      <td>4219.068843</td>\n",
       "    </tr>\n",
       "    <tr>\n",
       "      <th>1</th>\n",
       "      <td>41.978688</td>\n",
       "      <td>312.388331</td>\n",
       "      <td>151.120070</td>\n",
       "      <td>0.045657</td>\n",
       "      <td>1.094866</td>\n",
       "      <td>0.055575</td>\n",
       "      <td>4213.945765</td>\n",
       "    </tr>\n",
       "    <tr>\n",
       "      <th>2</th>\n",
       "      <td>42.986822</td>\n",
       "      <td>365.480508</td>\n",
       "      <td>148.789543</td>\n",
       "      <td>0.047071</td>\n",
       "      <td>0.817207</td>\n",
       "      <td>0.127871</td>\n",
       "      <td>4244.257314</td>\n",
       "    </tr>\n",
       "    <tr>\n",
       "      <th>3</th>\n",
       "      <td>51.092217</td>\n",
       "      <td>275.274131</td>\n",
       "      <td>160.879149</td>\n",
       "      <td>0.041212</td>\n",
       "      <td>0.937388</td>\n",
       "      <td>0.104264</td>\n",
       "      <td>4246.391930</td>\n",
       "    </tr>\n",
       "    <tr>\n",
       "      <th>4</th>\n",
       "      <td>51.959212</td>\n",
       "      <td>296.787786</td>\n",
       "      <td>215.573690</td>\n",
       "      <td>0.055152</td>\n",
       "      <td>1.559014</td>\n",
       "      <td>0.244429</td>\n",
       "      <td>4208.822686</td>\n",
       "    </tr>\n",
       "  </tbody>\n",
       "</table>\n",
       "</div>"
      ],
      "text/plain": [
       "           0           1           2         3         4         5  \\\n",
       "0  48.390419  344.470097  181.781057  0.048687  1.523789  0.437709   \n",
       "1  41.978688  312.388331  151.120070  0.045657  1.094866  0.055575   \n",
       "2  42.986822  365.480508  148.789543  0.047071  0.817207  0.127871   \n",
       "3  51.092217  275.274131  160.879149  0.041212  0.937388  0.104264   \n",
       "4  51.959212  296.787786  215.573690  0.055152  1.559014  0.244429   \n",
       "\n",
       "             6  \n",
       "0  4219.068843  \n",
       "1  4213.945765  \n",
       "2  4244.257314  \n",
       "3  4246.391930  \n",
       "4  4208.822686  "
      ]
     },
     "execution_count": 11,
     "metadata": {},
     "output_type": "execute_result"
    }
   ],
   "source": [
    "xx = pd.read_csv('./datas/out/6paras1k.csv',header=None)\n",
    "xx.head()"
   ]
  },
  {
   "cell_type": "code",
   "execution_count": 18,
   "id": "5c38174f",
   "metadata": {},
   "outputs": [],
   "source": [
    "xx['duplicated'] = xx.duplicated(keep=False)"
   ]
  },
  {
   "cell_type": "code",
   "execution_count": 20,
   "id": "63f69f7d",
   "metadata": {},
   "outputs": [
    {
     "name": "stdout",
     "output_type": "stream",
     "text": [
      "Empty DataFrame\n",
      "Columns: [0, 1, 2, 3, 4, 5, 6, duplicated]\n",
      "Index: []\n"
     ]
    }
   ],
   "source": [
    "print(xx[xx['duplicated']==True])"
   ]
  },
  {
   "cell_type": "code",
   "execution_count": 21,
   "id": "b584d814",
   "metadata": {},
   "outputs": [
    {
     "name": "stdout",
     "output_type": "stream",
     "text": [
      "无重复行\n"
     ]
    }
   ],
   "source": [
    "dupli = xx.duplicated()\n",
    "if not dupli.any():\n",
    "    print('无重复行')"
   ]
  },
  {
   "cell_type": "code",
   "execution_count": 24,
   "id": "3294fa55",
   "metadata": {},
   "outputs": [],
   "source": [
    "# 测试\n",
    "data = [[0,1,2,3,4,5],[1,2,3,4,5,6],[0,1,2,3,4,5]]\n",
    "df = pd.DataFrame(data)"
   ]
  },
  {
   "cell_type": "code",
   "execution_count": 25,
   "id": "de02e8ad",
   "metadata": {},
   "outputs": [
    {
     "data": {
      "text/html": [
       "<div>\n",
       "<style scoped>\n",
       "    .dataframe tbody tr th:only-of-type {\n",
       "        vertical-align: middle;\n",
       "    }\n",
       "\n",
       "    .dataframe tbody tr th {\n",
       "        vertical-align: top;\n",
       "    }\n",
       "\n",
       "    .dataframe thead th {\n",
       "        text-align: right;\n",
       "    }\n",
       "</style>\n",
       "<table border=\"1\" class=\"dataframe\">\n",
       "  <thead>\n",
       "    <tr style=\"text-align: right;\">\n",
       "      <th></th>\n",
       "      <th>0</th>\n",
       "      <th>1</th>\n",
       "      <th>2</th>\n",
       "      <th>3</th>\n",
       "      <th>4</th>\n",
       "      <th>5</th>\n",
       "    </tr>\n",
       "  </thead>\n",
       "  <tbody>\n",
       "    <tr>\n",
       "      <th>0</th>\n",
       "      <td>0</td>\n",
       "      <td>1</td>\n",
       "      <td>2</td>\n",
       "      <td>3</td>\n",
       "      <td>4</td>\n",
       "      <td>5</td>\n",
       "    </tr>\n",
       "    <tr>\n",
       "      <th>1</th>\n",
       "      <td>1</td>\n",
       "      <td>2</td>\n",
       "      <td>3</td>\n",
       "      <td>4</td>\n",
       "      <td>5</td>\n",
       "      <td>6</td>\n",
       "    </tr>\n",
       "    <tr>\n",
       "      <th>2</th>\n",
       "      <td>0</td>\n",
       "      <td>1</td>\n",
       "      <td>2</td>\n",
       "      <td>3</td>\n",
       "      <td>4</td>\n",
       "      <td>5</td>\n",
       "    </tr>\n",
       "  </tbody>\n",
       "</table>\n",
       "</div>"
      ],
      "text/plain": [
       "   0  1  2  3  4  5\n",
       "0  0  1  2  3  4  5\n",
       "1  1  2  3  4  5  6\n",
       "2  0  1  2  3  4  5"
      ]
     },
     "execution_count": 25,
     "metadata": {},
     "output_type": "execute_result"
    }
   ],
   "source": [
    "df.head()"
   ]
  },
  {
   "cell_type": "code",
   "execution_count": 26,
   "id": "e7e4d5c2",
   "metadata": {},
   "outputs": [
    {
     "data": {
      "text/plain": [
       "0    False\n",
       "1    False\n",
       "2     True\n",
       "dtype: bool"
      ]
     },
     "execution_count": 26,
     "metadata": {},
     "output_type": "execute_result"
    }
   ],
   "source": [
    "df.duplicated()"
   ]
  },
  {
   "cell_type": "code",
   "execution_count": 27,
   "id": "76077ca9",
   "metadata": {},
   "outputs": [
    {
     "data": {
      "text/plain": [
       "0     True\n",
       "1    False\n",
       "2     True\n",
       "dtype: bool"
      ]
     },
     "execution_count": 27,
     "metadata": {},
     "output_type": "execute_result"
    }
   ],
   "source": [
    "df.duplicated(keep=False)"
   ]
  },
  {
   "cell_type": "code",
   "execution_count": null,
   "id": "ff16b69f",
   "metadata": {},
   "outputs": [],
   "source": []
  }
 ],
 "metadata": {
  "kernelspec": {
   "display_name": "Python 3 (ipykernel)",
   "language": "python",
   "name": "python3"
  },
  "language_info": {
   "codemirror_mode": {
    "name": "ipython",
    "version": 3
   },
   "file_extension": ".py",
   "mimetype": "text/x-python",
   "name": "python",
   "nbconvert_exporter": "python",
   "pygments_lexer": "ipython3",
   "version": "3.10.9"
  }
 },
 "nbformat": 4,
 "nbformat_minor": 5
}
